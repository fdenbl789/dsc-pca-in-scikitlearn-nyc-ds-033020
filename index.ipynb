{
 "cells": [
  {
   "cell_type": "markdown",
   "metadata": {},
   "source": [
    "# Principal Component Analysis in scikit-learn\n",
    "\n",
    "## Introduction\n",
    "\n",
    "Now that you've seen the curse of dimensionality, it's time to take a look at a dimensionality reduction technique! This will help you overcome the challenges of the curse of dimensionality (amongst other things). Essentially, PCA, or Principal Component Analysis, attempts to capture as much information from the dataset as possible while reducing the overall number of features.\n",
    "\n",
    "## Objectives\n",
    "\n",
    "You will be able to:\n",
    "\n",
    "- Explain at a high level how PCA works \n",
    "- Explain use cases for PCA \n",
    "- Implement PCA using the scikit-learn library \n",
    "- Determine the optimal number of n components when performing PCA by observing the explained variance \n",
    "\n",
    "\n",
    "## Generate some data\n",
    "\n",
    "First, you need some data to perform PCA on. With that, here's a quick dataset you can generate using NumPy:"
   ]
  },
  {
   "cell_type": "code",
   "execution_count": 1,
   "metadata": {},
   "outputs": [],
   "source": [
    "import numpy as np\n",
    "\n",
    "x1 = np.linspace(-10, 10, 100)\n",
    "# A linear relationship, plus a little noise\n",
    "x2 = np.array([xi*2 + np.random.normal(loc=0, scale=0.5) for xi in x1]) \n",
    "\n",
    "X = np.matrix(list(zip(x1, x2)))"
   ]
  },
  {
   "cell_type": "code",
   "execution_count": 5,
   "metadata": {},
   "outputs": [
    {
     "data": {
      "text/plain": [
       "matrix([[-10.        , -20.42625595],\n",
       "        [ -9.7979798 , -19.93130614],\n",
       "        [ -9.5959596 , -18.93252936],\n",
       "        [ -9.39393939, -18.52317312],\n",
       "        [ -9.19191919, -19.32998344],\n",
       "        [ -8.98989899, -17.31453055],\n",
       "        [ -8.78787879, -18.12754954],\n",
       "        [ -8.58585859, -17.33001508],\n",
       "        [ -8.38383838, -16.20850282],\n",
       "        [ -8.18181818, -16.58338647],\n",
       "        [ -7.97979798, -15.70086246],\n",
       "        [ -7.77777778, -15.14344786],\n",
       "        [ -7.57575758, -14.84245455],\n",
       "        [ -7.37373737, -15.36309008],\n",
       "        [ -7.17171717, -13.65582776],\n",
       "        [ -6.96969697, -14.38396749],\n",
       "        [ -6.76767677, -14.323378  ],\n",
       "        [ -6.56565657, -12.45184467],\n",
       "        [ -6.36363636, -13.02436629],\n",
       "        [ -6.16161616, -12.01506627],\n",
       "        [ -5.95959596, -11.70986544],\n",
       "        [ -5.75757576, -10.73267277],\n",
       "        [ -5.55555556, -11.57146407],\n",
       "        [ -5.35353535,  -9.80166625],\n",
       "        [ -5.15151515,  -9.08069543],\n",
       "        [ -4.94949495,  -9.85242994],\n",
       "        [ -4.74747475,  -9.15695133],\n",
       "        [ -4.54545455, -10.12010641],\n",
       "        [ -4.34343434,  -9.00215503],\n",
       "        [ -4.14141414,  -8.12369506],\n",
       "        [ -3.93939394,  -8.6357612 ],\n",
       "        [ -3.73737374,  -8.26571949],\n",
       "        [ -3.53535354,  -6.84282926],\n",
       "        [ -3.33333333,  -6.22550255],\n",
       "        [ -3.13131313,  -5.88211931],\n",
       "        [ -2.92929293,  -5.3006575 ],\n",
       "        [ -2.72727273,  -5.54467906],\n",
       "        [ -2.52525253,  -5.43207269],\n",
       "        [ -2.32323232,  -4.95752216],\n",
       "        [ -2.12121212,  -4.7341752 ],\n",
       "        [ -1.91919192,  -3.78990671],\n",
       "        [ -1.71717172,  -3.73766709],\n",
       "        [ -1.51515152,  -2.85538707],\n",
       "        [ -1.31313131,  -2.77638105],\n",
       "        [ -1.11111111,  -2.87756592],\n",
       "        [ -0.90909091,  -2.19580915],\n",
       "        [ -0.70707071,  -0.66473573],\n",
       "        [ -0.50505051,  -1.04427699],\n",
       "        [ -0.3030303 ,  -1.26219394],\n",
       "        [ -0.1010101 ,   0.41267521],\n",
       "        [  0.1010101 ,   0.2115503 ],\n",
       "        [  0.3030303 ,   0.16200662],\n",
       "        [  0.50505051,   0.7439932 ],\n",
       "        [  0.70707071,   2.08483024],\n",
       "        [  0.90909091,   1.36348618],\n",
       "        [  1.11111111,   1.16591191],\n",
       "        [  1.31313131,   1.92112602],\n",
       "        [  1.51515152,   3.66725827],\n",
       "        [  1.71717172,   2.93906097],\n",
       "        [  1.91919192,   4.0426612 ],\n",
       "        [  2.12121212,   3.72724174],\n",
       "        [  2.32323232,   4.85867921],\n",
       "        [  2.52525253,   4.60258329],\n",
       "        [  2.72727273,   5.80035563],\n",
       "        [  2.92929293,   6.93294434],\n",
       "        [  3.13131313,   6.72250297],\n",
       "        [  3.33333333,   6.08212423],\n",
       "        [  3.53535354,   6.93190461],\n",
       "        [  3.73737374,   6.70863766],\n",
       "        [  3.93939394,   7.54550498],\n",
       "        [  4.14141414,   8.9443138 ],\n",
       "        [  4.34343434,   9.24812383],\n",
       "        [  4.54545455,   9.27984231],\n",
       "        [  4.74747475,   8.99572587],\n",
       "        [  4.94949495,   9.6560963 ],\n",
       "        [  5.15151515,  11.08648615],\n",
       "        [  5.35353535,  11.04381569],\n",
       "        [  5.55555556,  11.30333137],\n",
       "        [  5.75757576,  11.21371565],\n",
       "        [  5.95959596,  11.76090457],\n",
       "        [  6.16161616,  11.56771367],\n",
       "        [  6.36363636,  11.31371529],\n",
       "        [  6.56565657,  13.63749524],\n",
       "        [  6.76767677,  14.10646403],\n",
       "        [  6.96969697,  14.05451164],\n",
       "        [  7.17171717,  14.48460556],\n",
       "        [  7.37373737,  14.9813098 ],\n",
       "        [  7.57575758,  15.70843187],\n",
       "        [  7.77777778,  15.24425626],\n",
       "        [  7.97979798,  15.82630541],\n",
       "        [  8.18181818,  16.19904229],\n",
       "        [  8.38383838,  16.26627188],\n",
       "        [  8.58585859,  17.11780825],\n",
       "        [  8.78787879,  17.21363698],\n",
       "        [  8.98989899,  17.51082341],\n",
       "        [  9.19191919,  18.8276378 ],\n",
       "        [  9.39393939,  19.16922798],\n",
       "        [  9.5959596 ,  19.09012209],\n",
       "        [  9.7979798 ,  19.36976735],\n",
       "        [ 10.        ,  20.43231819]])"
      ]
     },
     "execution_count": 5,
     "metadata": {},
     "output_type": "execute_result"
    }
   ],
   "source": [
    "X"
   ]
  },
  {
   "cell_type": "markdown",
   "metadata": {},
   "source": [
    "Let's also generate a quick plot of this simple dataset to further orient ourselves:"
   ]
  },
  {
   "cell_type": "code",
   "execution_count": 2,
   "metadata": {},
   "outputs": [
    {
     "data": {
      "image/png": "[encoded data removed]",
      "text/plain": [
       "<Figure size 432x288 with 1 Axes>"
      ]
     },
     "metadata": {},
     "output_type": "display_data"
    }
   ],
   "source": [
    "import matplotlib.pyplot as plt\n",
    "import seaborn as sns\n",
    "%matplotlib inline\n",
    "\n",
    "sns.set_style('darkgrid')\n",
    "\n",
    "plt.scatter(x1, x2);"
   ]
  },
  {
   "cell_type": "markdown",
   "metadata": {},
   "source": [
    "## PCA with scikit-learn\n",
    "\n",
    "Now onto PCA. First, take a look at how simple it is to implement PCA with scikit-learn:"
   ]
  },
  {
   "cell_type": "code",
   "execution_count": 3,
   "metadata": {},
   "outputs": [],
   "source": [
    "from sklearn.decomposition import PCA\n",
    "\n",
    "pca = PCA()\n",
    "transformed = pca.fit_transform(X)"
   ]
  },
  {
   "cell_type": "code",
   "execution_count": 4,
   "metadata": {
    "scrolled": true
   },
   "outputs": [
    {
     "data": {
      "text/plain": [
       "array([[-2.27195579e+01,  1.73026618e-01],\n",
       "       [-2.21865037e+01,  1.32520568e-01],\n",
       "       [-2.12027497e+01, -1.33177050e-01],\n",
       "       [-2.07462635e+01, -1.35426022e-01],\n",
       "       [-2.13777026e+01,  4.05905373e-01],\n",
       "       [-1.94844780e+01, -3.14207943e-01],\n",
       "       [-2.01214712e+01,  2.29898494e-01],\n",
       "       [-1.93177390e+01,  5.41485652e-02],\n",
       "       [-1.82241916e+01, -2.66407159e-01],\n",
       "       [-1.84692495e+01,  8.18693802e-02],\n",
       "       [-1.75894897e+01, -1.31867655e-01],\n",
       "       [-1.70005575e+01, -2.00293103e-01],\n",
       "       [-1.66410077e+01, -1.54107950e-01],\n",
       "       [-1.70164483e+01,  2.59314157e-01],\n",
       "       [-1.53989165e+01, -3.23049649e-01],\n",
       "       [-1.59599806e+01,  1.83118973e-01],\n",
       "       [-1.58154848e+01,  3.36755524e-01],\n",
       "       [-1.40510038e+01, -3.19031203e-01],\n",
       "       [-1.44728593e+01,  1.17582025e-01],\n",
       "       [-1.34796917e+01, -1.52819083e-01],\n",
       "       [-1.31163780e+01, -1.08514533e-01],\n",
       "       [-1.21519321e+01, -3.64564874e-01],\n",
       "       [-1.28119799e+01,  1.91060808e-01],\n",
       "       [-1.11385068e+01, -4.19253995e-01],\n",
       "       [-1.04032649e+01, -5.60782878e-01],\n",
       "       [-1.10033269e+01, -3.51290387e-02],\n",
       "       [-1.02908891e+01, -1.65263868e-01],\n",
       "       [-1.10621869e+01,  4.45947713e-01],\n",
       "       [-9.97182487e+00,  1.26983561e-01],\n",
       "       [-9.09570059e+00, -8.49369995e-02],\n",
       "       [-9.46347546e+00,  3.24654915e-01],\n",
       "       [-9.04215820e+00,  3.39978048e-01],\n",
       "       [-7.67901226e+00, -1.15282212e-01],\n",
       "       [-7.03648549e+00, -2.10486104e-01],\n",
       "       [-6.63901564e+00, -1.83247644e-01],\n",
       "       [-6.02857193e+00, -2.62421283e-01],\n",
       "       [-6.15656674e+00,  2.73648632e-02],\n",
       "       [-5.96553902e+00,  1.57751839e-01],\n",
       "       [-5.45073309e+00,  1.26363489e-01],\n",
       "       [-5.16064205e+00,  2.07253617e-01],\n",
       "       [-4.22564856e+00, -3.40808621e-02],\n",
       "       [-4.08862208e+00,  1.23287762e-01],\n",
       "       [-3.20908057e+00, -9.03402172e-02],\n",
       "       [-3.04811013e+00,  5.50648398e-02],\n",
       "       [-3.04832998e+00,  2.81008401e-01],\n",
       "       [-2.34816711e+00,  1.57006713e-01],\n",
       "       [-8.88245576e-01, -3.46607334e-01],\n",
       "       [-1.13746994e+00,  3.75098585e-03],\n",
       "       [-1.24211280e+00,  2.81869359e-01],\n",
       "       [ 3.46441617e-01, -2.86015929e-01],\n",
       "       [ 2.56820120e-01, -1.54029586e-02],\n",
       "       [ 3.02796057e-01,  1.87458943e-01],\n",
       "       [ 9.13709211e-01,  1.08050750e-01],\n",
       "       [ 2.20345424e+00, -3.10534842e-01],\n",
       "       [ 1.64846919e+00,  1.92596375e-01],\n",
       "       [ 1.56202394e+00,  4.61622341e-01],\n",
       "       [ 2.32789828e+00,  3.04788009e-01],\n",
       "       [ 3.98020130e+00, -2.94949185e-01],\n",
       "       [ 3.41908568e+00,  2.11245171e-01],\n",
       "       [ 4.49660983e+00, -1.01304557e-01],\n",
       "       [ 4.30474581e+00,  2.20393745e-01],\n",
       "       [ 5.40717185e+00, -1.04598178e-01],\n",
       "       [ 5.26837588e+00,  1.90584752e-01],\n",
       "       [ 6.43014196e+00, -1.64056341e-01],\n",
       "       [ 7.53359785e+00, -4.89562823e-01],\n",
       "       [ 7.43564228e+00, -2.14785749e-01],\n",
       "       [ 6.95308501e+00,  2.52157039e-01],\n",
       "       [ 7.80355388e+00,  5.30551644e-02],\n",
       "       [ 7.69412515e+00,  3.33564788e-01],\n",
       "       [ 8.53304261e+00,  1.40234563e-01],\n",
       "       [ 9.87464647e+00, -3.04262222e-01],\n",
       "       [ 1.02367160e+01, -2.59336034e-01],\n",
       "       [ 1.03553852e+01, -9.27952371e-02],\n",
       "       [ 1.01915234e+01,  2.14911801e-01],\n",
       "       [ 1.08725551e+01,  1.00468994e-01],\n",
       "       [ 1.22424098e+01, -3.58143311e-01],\n",
       "       [ 1.22945342e+01, -1.58353473e-01],\n",
       "       [ 1.26169801e+01, -9.36293934e-02],\n",
       "       [ 1.26271095e+01,  1.27143190e-01],\n",
       "       [ 1.32068943e+01,  6.32882359e-02],\n",
       "       [ 1.31243702e+01,  3.30355003e-01],\n",
       "       [ 1.29874505e+01,  6.24600409e-01],\n",
       "       [ 1.51564900e+01, -2.33323419e-01],\n",
       "       [ 1.56663028e+01, -2.62216942e-01],\n",
       "       [ 1.57101240e+01, -5.82784326e-02],\n",
       "       [ 1.61851611e+01, -6.97963635e-02],\n",
       "       [ 1.67197847e+01, -1.11086580e-01],\n",
       "       [ 1.74605292e+01, -2.55364837e-01],\n",
       "       [ 1.71355950e+01,  1.32821827e-01],\n",
       "       [ 1.77465641e+01,  5.33856658e-02],\n",
       "       [ 1.81702923e+01,  6.75041635e-02],\n",
       "       [ 1.83207281e+01,  2.18172836e-01],\n",
       "       [ 1.91727678e+01,  1.82861054e-02],\n",
       "       [ 1.93487871e+01,  1.56172048e-01],\n",
       "       [ 1.97049314e+01,  2.04058730e-01],\n",
       "       [ 2.09731869e+01, -2.03789649e-01],\n",
       "       [ 2.13690528e+01, -1.75749758e-01],\n",
       "       [ 2.13885837e+01,  4.03253330e-02],\n",
       "       [ 2.17290366e+01,  9.60522519e-02],\n",
       "       [ 2.27698399e+01, -1.98149952e-01]])"
      ]
     },
     "execution_count": 4,
     "metadata": {},
     "output_type": "execute_result"
    }
   ],
   "source": [
    "transformed"
   ]
  },
  {
   "cell_type": "markdown",
   "metadata": {},
   "source": [
    "And you can once again plot the updated dataset:"
   ]
  },
  {
   "cell_type": "code",
   "execution_count": 4,
   "metadata": {},
   "outputs": [
    {
     "data": {
      "image/png": "[encoded data removed]",
      "text/plain": [
       "<Figure size 432x288 with 1 Axes>"
      ]
     },
     "metadata": {
      "needs_background": "light"
     },
     "output_type": "display_data"
    }
   ],
   "source": [
    "plt.scatter(transformed[:,0], transformed[:,1]);"
   ]
  },
  {
   "cell_type": "code",
   "execution_count": 5,
   "metadata": {},
   "outputs": [
    {
     "data": {
      "text/plain": [
       "array([[-0.44689541, -0.89458621],\n",
       "       [-0.89458621,  0.44689541]])"
      ]
     },
     "execution_count": 5,
     "metadata": {},
     "output_type": "execute_result"
    }
   ],
   "source": [
    "pca.components_"
   ]
  },
  {
   "cell_type": "code",
   "execution_count": 6,
   "metadata": {},
   "outputs": [
    {
     "data": {
      "text/plain": [
       "array([7.10542736e-17, 3.01653308e-02])"
      ]
     },
     "execution_count": 6,
     "metadata": {},
     "output_type": "execute_result"
    }
   ],
   "source": [
    "pca.mean_"
   ]
  },
  {
   "cell_type": "markdown",
   "metadata": {},
   "source": [
    "## Interpret Results\n",
    "\n",
    "Let's take a look at what went on here. PCA transforms the dataset along principal axes. The first of these axes is designed to capture the maximum variance within the data. From here, additional axes are constructed which are orthogonal to the previous axes and continue to account for as much of the remaining variance as possible.\n",
    "\n",
    "For the current 2-d case, the axes which the data were projected onto look like this:"
   ]
  },
  {
   "cell_type": "code",
   "execution_count": 7,
   "metadata": {},
   "outputs": [
    {
     "data": {
      "image/png": "[encoded data removed]",
      "text/plain": [
       "<Figure size 432x288 with 1 Axes>"
      ]
     },
     "metadata": {
      "needs_background": "light"
     },
     "output_type": "display_data"
    }
   ],
   "source": [
    "plt.scatter(x1, x2);\n",
    "ax1, ay1 = pca.mean_[0], pca.mean_[1]\n",
    "ax2, ay2 = pca.mean_[0] + pca.components_[0][0], pca.mean_[1] + pca.components_[0][1]\n",
    "ax3, ay3 = pca.mean_[0] + pca.components_[1][0], pca.mean_[1] + pca.components_[1][1]\n",
    "plt.plot([ax1, ax2], [ay1, ay2], color='red')\n",
    "plt.plot([ax2, ax3], [ay2, ay3], color='red');"
   ]
  },
  {
   "cell_type": "markdown",
   "metadata": {},
   "source": [
    "So, the updated graph you saw is the same dataset rotated onto these red axes:"
   ]
  },
  {
   "cell_type": "code",
   "execution_count": 8,
   "metadata": {},
   "outputs": [
    {
     "data": {
      "image/png": "[encoded data removed]",
      "text/plain": [
       "<Figure size 432x288 with 1 Axes>"
      ]
     },
     "metadata": {
      "needs_background": "light"
     },
     "output_type": "display_data"
    }
   ],
   "source": [
    "plt.scatter(transformed[:,0], transformed[:,1])\n",
    "plt.axhline(color='red')\n",
    "plt.axvline(color='red');"
   ]
  },
  {
   "cell_type": "markdown",
   "metadata": {},
   "source": [
    "Note the small scale of the y-axis. You can also plot the transformed dataset on the new axes with a scale similar to what you saw before:"
   ]
  },
  {
   "cell_type": "code",
   "execution_count": 9,
   "metadata": {
    "scrolled": true
   },
   "outputs": [
    {
     "data": {
      "image/png": "[encoded data removed]",
      "text/plain": [
       "<Figure size 432x288 with 1 Axes>"
      ]
     },
     "metadata": {
      "needs_background": "light"
     },
     "output_type": "display_data"
    }
   ],
   "source": [
    "plt.scatter(transformed[:,0], transformed[:,1])\n",
    "plt.axhline(color='red')\n",
    "plt.axvline(color='red')\n",
    "plt.ylim(-10,10);"
   ]
  },
  {
   "cell_type": "markdown",
   "metadata": {},
   "source": [
    "Again, this is the geographical interpretation of what just happened:  \n",
    "\n",
    "<img src=\"images/inhouse_pca.png\">"
   ]
  },
  {
   "cell_type": "markdown",
   "metadata": {},
   "source": [
    "## Determine the Explained Variance\n",
    "\n",
    "Typically, one would use PCA to actually reduce the number of dimensions. In this case, you've simply re-re-parametrized the dataset along new axes. That said, if you look at the first of these primary axes, you can see the patterns encapsulated by the principal component. Moreover, scikit-learn also lets you quickly determine the overall variance in the dataset accounted for in each of the principal components."
   ]
  },
  {
   "cell_type": "code",
   "execution_count": 8,
   "metadata": {},
   "outputs": [
    {
     "data": {
      "text/plain": [
       "array([9.99699025e-01, 3.00975277e-04])"
      ]
     },
     "execution_count": 8,
     "metadata": {},
     "output_type": "execute_result"
    }
   ],
   "source": [
    "pca.explained_variance_ratio_"
   ]
  },
  {
   "cell_type": "markdown",
   "metadata": {},
   "source": [
    "Keep in mind that these quantities are cumulative: principal component 2 attempts to account for the variance not accounted for in the primary component. You can view the total variance using `np.cumsum()`:"
   ]
  },
  {
   "cell_type": "code",
   "execution_count": 9,
   "metadata": {},
   "outputs": [
    {
     "data": {
      "text/plain": [
       "array([0.99969902, 1.        ])"
      ]
     },
     "execution_count": 9,
     "metadata": {},
     "output_type": "execute_result"
    }
   ],
   "source": [
    "np.cumsum(pca.explained_variance_ratio_)"
   ]
  },
  {
   "cell_type": "markdown",
   "metadata": {},
   "source": [
    "## Visualize the Principal Component\n",
    "\n",
    "To help demonstrate the structure captured by the first principal component, observe the impact of coloring the dataset and then visualizing the first component."
   ]
  },
  {
   "cell_type": "code",
   "execution_count": 12,
   "metadata": {},
   "outputs": [
    {
     "data": {
      "image/png": "[encoded data removed]",
      "text/plain": [
       "<Figure size 432x288 with 1 Axes>"
      ]
     },
     "metadata": {
      "needs_background": "light"
     },
     "output_type": "display_data"
    }
   ],
   "source": [
    "plt.scatter(x1,x2, c=sns.color_palette('RdBu', n_colors=100));"
   ]
  },
  {
   "cell_type": "code",
   "execution_count": 13,
   "metadata": {},
   "outputs": [
    {
     "data": {
      "image/png": "[encoded data removed]",
      "text/plain": [
       "<Figure size 432x288 with 1 Axes>"
      ]
     },
     "metadata": {
      "needs_background": "light"
     },
     "output_type": "display_data"
    }
   ],
   "source": [
    "plt.scatter(transformed[:,0], [0 for i in range(100)] , c=sns.color_palette('RdBu', n_colors=100));"
   ]
  },
  {
   "cell_type": "markdown",
   "metadata": {},
   "source": [
    "## Steps for Performing PCA\n",
    "\n",
    "The theory behind PCA rests upon many foundational concepts of linear algebra. After all, PCA is re-encoding a dataset into an alternative basis (the axes). Here are the exact steps:\n",
    "\n",
    "1. Recenter each feature of the dataset by subtracting that feature's mean from the feature vector\n",
    "2. Calculate the covariance matrix for your centered dataset\n",
    "3. Calculate the eigenvectors of the covariance matrix\n",
    "    1. You'll further investigate the concept of eigenvectors in the upcoming lesson\n",
    "4. Project the dataset into the new feature space: Multiply the eigenvectors by the mean-centered features"
   ]
  },
  {
   "cell_type": "markdown",
   "metadata": {},
   "source": [
    "You can see some of these intermediate steps from the `pca` instance object itself. "
   ]
  },
  {
   "cell_type": "code",
   "execution_count": 10,
   "metadata": {},
   "outputs": [
    {
     "data": {
      "text/plain": [
       "array([7.10542736e-17, 3.01653308e-02])"
      ]
     },
     "execution_count": 10,
     "metadata": {},
     "output_type": "execute_result"
    }
   ],
   "source": [
    "# Pulling up the original feature means which were used to center the data\n",
    "pca.mean_ "
   ]
  },
  {
   "cell_type": "code",
   "execution_count": 11,
   "metadata": {},
   "outputs": [
    {
     "data": {
      "text/plain": [
       "array([[ 34.35023637,  68.65807813],\n",
       "       [ 68.65807813, 137.49007411]])"
      ]
     },
     "execution_count": 11,
     "metadata": {},
     "output_type": "execute_result"
    }
   ],
   "source": [
    "# Pulling up the covariance matrix of the mean centered data\n",
    "pca.get_covariance() "
   ]
  },
  {
   "cell_type": "code",
   "execution_count": 16,
   "metadata": {},
   "outputs": [
    {
     "data": {
      "text/plain": [
       "array([[ 0.44712728,  0.89447035],\n",
       "       [-0.89447035,  0.44712728]])"
      ]
     },
     "execution_count": 16,
     "metadata": {},
     "output_type": "execute_result"
    }
   ],
   "source": [
    "# Pulling up the eigenvectors of the covariance matrix\n",
    "pca.components_ "
   ]
  },
  {
   "cell_type": "markdown",
   "metadata": {},
   "source": [
    "##  Summary\n",
    "In this lesson, you looked at implementing PCA with scikit-learn and the geometric interpretations of principal components. From here, you'll get a chance to practice implementing PCA yourself before going on to code some of the underlying components implemented by scikit-learn using NumPy."
   ]
  }
 ],
 "metadata": {
  "anaconda-cloud": {},
  "kernelspec": {
   "display_name": "Python 3",
   "language": "python",
   "name": "python3"
  },
  "language_info": {
   "codemirror_mode": {
    "name": "ipython",
    "version": 3
   },
   "file_extension": ".py",
   "mimetype": "text/x-python",
   "name": "python",
   "nbconvert_exporter": "python",
   "pygments_lexer": "ipython3",
   "version": "3.6.9"
  }
 },
 "nbformat": 4,
 "nbformat_minor": 1
}
